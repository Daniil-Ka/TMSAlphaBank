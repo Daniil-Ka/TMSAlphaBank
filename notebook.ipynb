{
 "cells": [
  {
   "cell_type": "code",
   "execution_count": 1,
   "id": "initial_id",
   "metadata": {
    "collapsed": true,
    "ExecuteTime": {
     "end_time": "2023-11-15T11:53:05.026953600Z",
     "start_time": "2023-11-15T11:47:48.034799100Z"
    }
   },
   "outputs": [
    {
     "name": "stdout",
     "output_type": "stream",
     "text": [
      "Epoch 1/7\n",
      "157/157 [==============================] - 51s 271ms/step - loss: 3.3105 - accuracy: 0.3681\n",
      "Epoch 2/7\n",
      "157/157 [==============================] - 42s 268ms/step - loss: 1.9160 - accuracy: 0.5805\n",
      "Epoch 3/7\n",
      "157/157 [==============================] - 42s 268ms/step - loss: 1.2184 - accuracy: 0.6886\n",
      "Epoch 4/7\n",
      "157/157 [==============================] - 42s 270ms/step - loss: 0.7187 - accuracy: 0.8220\n",
      "Epoch 5/7\n",
      "157/157 [==============================] - 42s 266ms/step - loss: 0.4344 - accuracy: 0.8872\n",
      "Epoch 6/7\n",
      "157/157 [==============================] - 42s 266ms/step - loss: 0.2871 - accuracy: 0.9195\n",
      "Epoch 7/7\n",
      "157/157 [==============================] - 43s 274ms/step - loss: 0.2110 - accuracy: 0.9404\n"
     ]
    },
    {
     "data": {
      "text/plain": "<keras.src.callbacks.History at 0x24cb07fbe50>"
     },
     "execution_count": 1,
     "metadata": {},
     "output_type": "execute_result"
    }
   ],
   "source": [
    "import pandas as pd\n",
    "import numpy as np\n",
    "import tensorflow as tf\n",
    "from keras.src.layers import TextVectorization\n",
    "\n",
    "data = pd.read_csv('generated5000.csv')\n",
    "\n",
    "vectorizer = TextVectorization(output_mode='int')\n",
    "vectorizer.adapt(data['lawer'].tolist() + data['lawer_tp'].tolist())\n",
    "\n",
    "# Prepare the data\n",
    "source_texts = data['lawer'].tolist()\n",
    "target_texts = data['lawer_tp'].tolist()\n",
    "\n",
    "# Convert text to numerical sequences\n",
    "source_sequences = vectorizer(np.array(source_texts)).numpy()\n",
    "target_sequences = vectorizer(np.array(target_texts)).numpy()\n",
    "\n",
    "# Create the neural network model\n",
    "model = tf.keras.Sequential([\n",
    "    tf.keras.layers.Embedding(input_dim=len(vectorizer.get_vocabulary()), output_dim=512, mask_zero=True),\n",
    "    tf.keras.layers.LSTM(512, return_sequences=True),\n",
    "    tf.keras.layers.LSTM(512, return_sequences=True),\n",
    "    tf.keras.layers.LSTM(512, return_sequences=True),\n",
    "    tf.keras.layers.Dense(len(vectorizer.get_vocabulary()), activation='softmax')\n",
    "])\n",
    "\n",
    "# Compile the model\n",
    "model.compile(optimizer='adam', loss='sparse_categorical_crossentropy', metrics=['accuracy'])\n",
    "\n",
    "# Train the model\n",
    "model.fit(source_sequences, target_sequences, epochs=7)"
   ]
  },
  {
   "cell_type": "code",
   "execution_count": 8,
   "outputs": [],
   "source": [
    "model.save('my_model.keras')"
   ],
   "metadata": {
    "collapsed": false,
    "ExecuteTime": {
     "end_time": "2023-11-15T12:24:11.083896Z",
     "start_time": "2023-11-15T12:24:10.182396200Z"
    }
   },
   "id": "424849918eafd35"
  },
  {
   "cell_type": "code",
   "execution_count": 10,
   "outputs": [],
   "source": [
    "new_model = tf.keras.models.load_model('my_model.keras')"
   ],
   "metadata": {
    "collapsed": false,
    "ExecuteTime": {
     "end_time": "2023-11-15T12:24:31.741315800Z",
     "start_time": "2023-11-15T12:24:26.155981400Z"
    }
   },
   "id": "bf26959f75adddcd"
  },
  {
   "cell_type": "code",
   "execution_count": 11,
   "outputs": [],
   "source": [
    "def translate_sentence(sentence, model, vectorizer):\n",
    "    sequence = vectorizer([sentence]).numpy()\n",
    "    predicted_sequence = model.predict(sequence)\n",
    "    predicted_sentence = ' '.join([vectorizer.get_vocabulary()[i] for i in np.argmax(predicted_sequence, axis=2)[0]])\n",
    "    return predicted_sentence"
   ],
   "metadata": {
    "collapsed": false,
    "ExecuteTime": {
     "end_time": "2023-11-15T12:24:39.379021600Z",
     "start_time": "2023-11-15T12:24:39.360587900Z"
    }
   },
   "id": "9104f105c9cf6781"
  },
  {
   "cell_type": "code",
   "execution_count": 14,
   "outputs": [
    {
     "name": "stdout",
     "output_type": "stream",
     "text": [
      "1/1 [==============================] - 0s 58ms/step\n",
      "1/1 [==============================] - 0s 56ms/step\n",
      "Балаковский город суд еврейской автономной области\n",
      "Балаковским городским судом новгородской автономной области\n",
      "Балаковским городским судом новгородской автономной области\n",
      "1/1 [==============================] - 0s 52ms/step\n",
      "1/1 [==============================] - 0s 45ms/step\n",
      "Аннинский городской суд камчатского края\n",
      "Аннинским городским судом гспб края\n",
      "Аннинским городским судом гспб края\n",
      "1/1 [==============================] - 0s 42ms/step\n",
      "1/1 [==============================] - 0s 46ms/step\n",
      "Вольский межрайонный суд респ.хакасия\n",
      "Вольским межрайонным судом нижегородская\n",
      "Вольским межрайонным судом нижегородская\n",
      "1/1 [==============================] - 0s 61ms/step\n",
      "1/1 [==============================] - 0s 50ms/step\n",
      "Баргузинский областной суд г. екатеринбурга свердловской области\n",
      "Баргузинским областным судом г екатеринбурга свердловской области\n",
      "Баргузинским областным судом г екатеринбурга свердловской области\n",
      "1/1 [==============================] - 0s 47ms/step\n",
      "1/1 [==============================] - 0s 48ms/step\n",
      "Кировский районный суд города Екатеринбург Свердловской области\n",
      "Барабинским районным судом города тольятти свердловской области\n",
      "Барабинским районным судом города тольятти свердловской области\n"
     ]
    }
   ],
   "source": [
    "li = [\"Балаковский город суд еврейской автономной области\",\n",
    "     \"Аннинский городской суд камчатского края\",\n",
    "     \"Вольский межрайонный суд респ.хакасия\",\n",
    "     \"Баргузинский областной суд г. екатеринбурга свердловской области\",\n",
    "     \"Кировский районный суд города Екатеринбург Свердловской области\"]\n",
    "  \n",
    "for l in li:   \n",
    "    old = translate_sentence(l, model, vectorizer)\n",
    "    new = translate_sentence(l, new_model, vectorizer)\n",
    "    assert old == new\n",
    "    print(l)\n",
    "    print(old)\n",
    "    print(new)\n",
    "    print()\n"
   ],
   "metadata": {
    "collapsed": false,
    "ExecuteTime": {
     "end_time": "2023-11-15T12:27:57.466682400Z",
     "start_time": "2023-11-15T12:27:56.108742Z"
    }
   },
   "id": "eb8a7d9e647ba765"
  },
  {
   "cell_type": "code",
   "execution_count": 4,
   "outputs": [],
   "source": [
    "import pickle\n",
    "\n",
    "pickle.dump({'config': vectorizer.get_config(), \n",
    "             'weights': vectorizer.get_weights()} \n",
    "            , open(\"vectorizer.pkl\", \"wb+\"))"
   ],
   "metadata": {
    "collapsed": false,
    "ExecuteTime": {
     "end_time": "2023-11-15T11:57:06.750957800Z",
     "start_time": "2023-11-15T11:57:06.743421600Z"
    }
   },
   "id": "c2667f5e776582f"
  },
  {
   "cell_type": "markdown",
   "source": [],
   "metadata": {
    "collapsed": false
   },
   "id": "320834e12e1867de"
  }
 ],
 "metadata": {
  "kernelspec": {
   "display_name": "Python 3",
   "language": "python",
   "name": "python3"
  },
  "language_info": {
   "codemirror_mode": {
    "name": "ipython",
    "version": 2
   },
   "file_extension": ".py",
   "mimetype": "text/x-python",
   "name": "python",
   "nbconvert_exporter": "python",
   "pygments_lexer": "ipython2",
   "version": "2.7.6"
  }
 },
 "nbformat": 4,
 "nbformat_minor": 5
}
